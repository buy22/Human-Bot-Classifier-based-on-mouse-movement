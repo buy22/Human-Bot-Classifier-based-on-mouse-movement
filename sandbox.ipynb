{
 "cells": [
  {
   "cell_type": "code",
   "execution_count": null,
   "metadata": {},
   "outputs": [],
   "source": [
    "from pathlib import Path\n",
    "import sys\n",
    "sys.path.append('/Users/dean/Projects/mousetrap')\n",
    "\n",
    "import numpy as np\n",
    "import torch\n",
    "from torch.utils.data import DataLoader\n",
    "from torchvision import transforms\n",
    "from tqdm import tqdm\n",
    "\n",
    "import mousetrap.mouse_dataset as mouse_dataset\n",
    "import mousetrap.models as mtm"
   ]
  },
  {
   "cell_type": "code",
   "execution_count": null,
   "metadata": {},
   "outputs": [],
   "source": [
    "# load data\n",
    "data_path = 'data/dsjtzs_txfz_training.txt'\n",
    "\n",
    "tf = transforms.Compose([transforms.ToTensor()])\n",
    "train_dataset = mouse_dataset.MouseMovementDataset(data_path, pad=True, transform=tf)\n",
    "train_dataloader = DataLoader(train_dataset, batch_size=1, shuffle=True)\n",
    "\n",
    "# create a simple convolutional model\n",
    "class SimpleModel(torch.nn.Module):\n",
    "    # note: simple model seems to converge at around epoch 20 with BCE\n",
    "    def __init__(self, input_size: int = 300):\n",
    "        super().__init__()\n",
    "        self.conv1 = torch.nn.Conv1d(in_channels=3, out_channels=64, kernel_size=7)\n",
    "        self.conv2 = torch.nn.Conv1d(in_channels=64, out_channels=64, kernel_size=5)\n",
    "        self.conv3 = torch.nn.Conv1d(in_channels=64, out_channels=8, kernel_size=3)\n",
    "        self.relu = torch.nn.ReLU()\n",
    "        self.fc1 = torch.nn.Linear(in_features=(input_size - 7 - 5 - 3 + 3) * 8, out_features=256)\n",
    "        self.fc2 = torch.nn.Linear(in_features=256, out_features=1)\n",
    "        self.sigmoid = torch.nn.Sigmoid()\n",
    "\n",
    "    def forward(self, x: torch.Tensor):\n",
    "        x = self.relu(self.conv1(x))\n",
    "        x = self.relu(self.conv2(x))\n",
    "        x = self.relu(self.conv3(x))\n",
    "        x = torch.flatten(x, 1)\n",
    "        x = self.relu(self.fc1(x))\n",
    "        x = self.sigmoid(self.fc2(x))\n",
    "        return x\n",
    "\n",
    "class LinearModel(torch.nn.Module):\n",
    "    def __init__(self, input_size: int = 300):\n",
    "        super().__init__()\n",
    "        self.fc1 = torch.nn.Linear(in_features=input_size * 3, out_features=512)\n",
    "        self.fc2 = torch.nn.Linear(in_features=512, out_features=64)\n",
    "        self.fc3 = torch.nn.Linear(in_features=64, out_features=1)\n",
    "        self.relu = torch.nn.ReLU()\n",
    "        self.sigmoid = torch.nn.Sigmoid()\n",
    "    \n",
    "    def forward(self, x: torch.Tensor):\n",
    "        x = torch.flatten(x, 1)\n",
    "        x = self.relu(self.fc1(x))\n",
    "        x = self.relu(self.fc2(x))\n",
    "        x = self.sigmoid(self.fc3(x))\n",
    "        return x\n",
    "\n",
    "# initialize the model\n",
    "net = SimpleModel()\n",
    "\n",
    "# training\n",
    "criterion = torch.nn.BCEWithLogitsLoss(pos_weight=torch.Tensor([2600*1.0/400]))\n",
    "optimizer = torch.optim.SGD(net.parameters(), lr=0.001, momentum=0.9)\n",
    "# optimizer = torch.optim.Adam(net.parameters(), lr=0.001)\n",
    "\n",
    "net, stats = mtm.train(net, 5, criterion, optimizer, train_dataloader)\n",
    "\n",
    "print(f'Final stats: {stats}')"
   ]
  }
 ],
 "metadata": {
  "interpreter": {
   "hash": "95ac4b1a5a8b741c5bd934031afc015cc532a8685335923b9534204611d5f18f"
  },
  "kernelspec": {
   "display_name": "Python 3.9.5 64-bit ('.venv': venv)",
   "language": "python",
   "name": "python3"
  },
  "language_info": {
   "codemirror_mode": {
    "name": "ipython",
    "version": 3
   },
   "file_extension": ".py",
   "mimetype": "text/x-python",
   "name": "python",
   "nbconvert_exporter": "python",
   "pygments_lexer": "ipython3",
   "version": "3.9.6"
  },
  "orig_nbformat": 4
 },
 "nbformat": 4,
 "nbformat_minor": 2
}
