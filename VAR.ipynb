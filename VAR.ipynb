{
 "cells": [
  {
   "cell_type": "code",
   "execution_count": 3,
   "id": "2740be88",
   "metadata": {},
   "outputs": [],
   "source": [
    "import numpy as np\n",
    "import pandas as pd\n",
    "import matplotlib.pyplot as plt\n",
    "import itertools\n",
    "from sklearn.metrics import confusion_matrix"
   ]
  },
  {
   "cell_type": "code",
   "execution_count": 28,
   "id": "a59aec3d",
   "metadata": {},
   "outputs": [],
   "source": [
    "Nstep = 38\n",
    "length = 40\n",
    "ratio = 0.6\n",
    "def data_handler_VAR(data, max_length = length):\n",
    "    for line in range(len(data)):\n",
    "        tmp = data[line]\n",
    "        l = len(tmp)\n",
    "        if l < max_length:\n",
    "            for i in range(max_length-l):\n",
    "                tmp.append(data[line][-1])\n",
    "        else:\n",
    "            tmp = tmp[:max_length]\n",
    "        data[line] = tmp\n",
    "        \n",
    "    train = None\n",
    "    label = None\n",
    "    N = Nstep\n",
    "    for row in range(len(data)):\n",
    "        for i in range(N, len(data[row])):\n",
    "            vec = None\n",
    "            for j in range(i-N, i):\n",
    "                tmp = (np.array([round(data[row][j][0]), round(data[row][j][1])]).T).reshape((2,1))\n",
    "                if vec is None: \n",
    "                    vec = tmp\n",
    "                else:\n",
    "                    vec = np.vstack((vec, tmp))\n",
    "                    \n",
    "            tmp1 = (np.array([round(data[row][i][0]), round(data[row][i][1])]).T).reshape((2,1))\n",
    "            if label is None:\n",
    "                label = tmp1\n",
    "            else:\n",
    "                label = np.hstack((label, tmp1))\n",
    "                \n",
    "            if train is None:\n",
    "                train = vec\n",
    "            else:\n",
    "                train = np.hstack((train, vec))\n",
    "    train = np.vstack((train, np.ones((1, train.shape[1]))))\n",
    "    return train, label\n",
    "\n",
    "def read_human(path='Mousecollector/records1.txt', return_original = False):\n",
    "    train = pd.read_csv(path, sep=' ', header=None, encoding='utf-8', names=['data'])\n",
    "    data = train['data'].apply(lambda x: [list(map(float, point.split(','))) for point in x.split(';')])\n",
    "    if return_original:\n",
    "        return data[:int(len(data)*(1-ratio))]\n",
    "    else:\n",
    "        return data_handler_VAR(data[:int(len(data)*ratio)])\n",
    "\n",
    "def read_bot(path='data/gc.csv', return_original = False):\n",
    "    train = pd.read_csv(path, sep=' ', header=None, encoding='utf-8', names=['id','data','_','1','end'])\n",
    "    data = train['data'].apply(lambda x: [list(map(float, point.split(';'))) for idx, point in enumerate(x.split(',')) if idx % 2 == 0][2:-2])\n",
    "    if return_original:\n",
    "        return data[:int(len(data)*(1-ratio))]\n",
    "    else:\n",
    "        return data_handler_VAR(data[:int(len(data)*ratio)])"
   ]
  },
  {
   "cell_type": "code",
   "execution_count": 29,
   "id": "6c16a40a",
   "metadata": {},
   "outputs": [
    {
     "name": "stdout",
     "output_type": "stream",
     "text": [
      "(77, 120)\n"
     ]
    }
   ],
   "source": [
    "train_bot, label_bot = read_bot()\n",
    "print(train_bot.shape)"
   ]
  },
  {
   "cell_type": "code",
   "execution_count": 30,
   "id": "8eaefba7",
   "metadata": {},
   "outputs": [
    {
     "name": "stdout",
     "output_type": "stream",
     "text": [
      "(77, 360)\n"
     ]
    }
   ],
   "source": [
    "train_human, label_human = read_human()\n",
    "print(train_human.shape)"
   ]
  },
  {
   "cell_type": "code",
   "execution_count": 289,
   "id": "6df19de9",
   "metadata": {},
   "outputs": [
    {
     "name": "stdout",
     "output_type": "stream",
     "text": [
      "5.921873275650935\n",
      "(77, 2)\n",
      "4.215105957784848\n",
      "(77, 2)\n"
     ]
    },
    {
     "data": {
      "text/plain": [
       "2"
      ]
     },
     "execution_count": 289,
     "metadata": {},
     "output_type": "execute_result"
    }
   ],
   "source": [
    "import numpy.linalg as la\n",
    "import scipy.linalg as spla\n",
    "\n",
    "trains = [train_human, train_bot]\n",
    "labels = [label_human, label_bot]\n",
    "\n",
    "As = []\n",
    "for i in range(len(trains)):\n",
    "    new_train, new_label = trains[i], labels[i]\n",
    "    A = new_train.T\n",
    "    b = new_label\n",
    "    Q, R = la.qr(A)\n",
    "    x = spla.solve_triangular(R, Q.T.dot(b.T), lower=False)\n",
    "    print(la.norm(A.dot(x)-b.T, 2))\n",
    "    print(x.shape)\n",
    "    As.append(x)\n",
    "len(As)"
   ]
  },
  {
   "cell_type": "code",
   "execution_count": 290,
   "id": "b66d524a",
   "metadata": {},
   "outputs": [],
   "source": [
    "def plot_confusion_matrix(cm, classes,\n",
    "                          normalize=False,\n",
    "                          title='Confusion matrix',\n",
    "                          cmap=plt.cm.Blues):\n",
    "\n",
    "    if normalize:\n",
    "        cm = cm.astype('float') / cm.sum(axis=1)[:, np.newaxis]\n",
    "        print(\"Normalized confusion matrix\")\n",
    "    else:\n",
    "        print('Confusion matrix, without normalization')\n",
    "\n",
    "    plt.imshow(cm, interpolation='nearest', cmap=cmap)\n",
    "    plt.title(title)\n",
    "    plt.colorbar()\n",
    "    tick_marks = np.arange(len(classes))\n",
    "    plt.xticks(tick_marks, classes, rotation=45)\n",
    "    plt.yticks(tick_marks, classes)\n",
    "\n",
    "    fmt = '.2f' if normalize else 'd'\n",
    "    thresh = cm.max() / 2.\n",
    "    for i, j in itertools.product(range(cm.shape[0]), range(cm.shape[1])):\n",
    "        plt.text(j, i, format(cm[i, j], fmt),\n",
    "                 horizontalalignment=\"center\",\n",
    "                 color=\"white\" if cm[i, j] > thresh else \"black\")\n",
    "\n",
    "    plt.tight_layout()\n",
    "    plt.ylabel('True label')\n",
    "    plt.xlabel('Predicted label')"
   ]
  },
  {
   "cell_type": "code",
   "execution_count": 323,
   "id": "dadc0f71",
   "metadata": {},
   "outputs": [],
   "source": [
    "# predicting training data\n",
    "def predict(data, As, N=Nstep, max_length=length):\n",
    "    pred_label = []\n",
    "    for line in range(len(data)):\n",
    "        tmp = data[line]\n",
    "        l = len(tmp)\n",
    "        if l < max_length:\n",
    "            for i in range(max_length-l):\n",
    "                tmp.append(data[line][-1])\n",
    "        else:\n",
    "            tmp = tmp[:max_length]\n",
    "        data[line] = tmp\n",
    "        \n",
    "    for row in range(len(data)):\n",
    "        for i in range(N, len(data[row])):\n",
    "            vec = None\n",
    "            for j in range(i-N, i):\n",
    "                tmp = (np.array([round(data[row][j][0]), round(data[row][j][1])]).T).reshape((2,1))\n",
    "                if vec is None: \n",
    "                    vec = tmp\n",
    "                else:\n",
    "                    vec = np.vstack((vec, tmp))\n",
    "                    \n",
    "            vec = np.vstack((vec, np.ones((1, vec.shape[1]))))\n",
    "            label = (np.array([round(data[row][i][0]), round(data[row][i][1])]).T).reshape((2,1))\n",
    "            res = []\n",
    "            for A in As:\n",
    "                res.append(la.norm(vec.T.dot(A)-label.T, 2))\n",
    "            min_score = float(\"inf\")\n",
    "            idx = -1\n",
    "            for i in range(len(res)):\n",
    "                if min_score > res[i]:\n",
    "                    min_score = res[i]\n",
    "                    idx = i\n",
    "            pred_label.append(idx)\n",
    "    return pred_label"
   ]
  },
  {
   "cell_type": "code",
   "execution_count": 292,
   "id": "3e037fb9",
   "metadata": {},
   "outputs": [],
   "source": [
    "def confusion(data, As):\n",
    "    pred_labels = []\n",
    "    real_labels = []\n",
    "    for i in range(len(data)):\n",
    "        tmp = predict(data[i], As)\n",
    "        pred_labels += tmp\n",
    "        real_labels += [i]*len(tmp)\n",
    "        print(len(tmp))\n",
    "    cm = confusion_matrix(real_labels, pred_labels)\n",
    "    classes = ['human', 'bot']\n",
    "    plt.figure()\n",
    "    plot_confusion_matrix(cm, classes=classes, normalize=True,\n",
    "                          title='Normalized confusion matrix')\n",
    "\n",
    "    plt.show()"
   ]
  },
  {
   "cell_type": "code",
   "execution_count": 293,
   "id": "a12668b6",
   "metadata": {},
   "outputs": [],
   "source": [
    "dtest = [read_human(return_original=True), read_bot(return_original=True)]"
   ]
  },
  {
   "cell_type": "code",
   "execution_count": 294,
   "id": "b1d9e2cf",
   "metadata": {},
   "outputs": [
    {
     "name": "stdout",
     "output_type": "stream",
     "text": [
      "160\n",
      "80\n",
      "Normalized confusion matrix\n"
     ]
    },
    {
     "data": {
      "image/png": "[encoded data removed]",
      "text/plain": [
       "<Figure size 432x288 with 2 Axes>"
      ]
     },
     "metadata": {
      "needs_background": "light"
     },
     "output_type": "display_data"
    }
   ],
   "source": [
    "confusion(dtest, As)"
   ]
  },
  {
   "cell_type": "code",
   "execution_count": 334,
   "id": "f68df5fe",
   "metadata": {},
   "outputs": [],
   "source": [
    "# testing on the old 3000 data entries\n",
    "def read_data(path='data/dsjtzs_txfz_training.txt'):\n",
    "    train = pd.read_csv(path, sep=' ', header=None, encoding='utf-8', names=['id', 'data', 'target', 'label'])\n",
    "    data = train['data'].apply(lambda x: [list(map(float, point.split(',')))[:-1] for point in x.split(';')[:-1]])\n",
    "    label = list(train['label'])\n",
    "    \n",
    "    sep = label.index(0)\n",
    "    human = data[:sep]\n",
    "    bot = list(data[sep:])\n",
    "    return human, bot"
   ]
  },
  {
   "cell_type": "code",
   "execution_count": 335,
   "id": "18ed00b1",
   "metadata": {},
   "outputs": [
    {
     "name": "stdout",
     "output_type": "stream",
     "text": [
      "5200\n",
      "800\n",
      "Normalized confusion matrix\n"
     ]
    },
    {
     "data": {
      "image/png": "[encoded data removed]",
      "text/plain": [
       "<Figure size 432x288 with 2 Axes>"
      ]
     },
     "metadata": {
      "needs_background": "light"
     },
     "output_type": "display_data"
    }
   ],
   "source": [
    "human, bot = read_data()\n",
    "dtest1 = [human, bot]\n",
    "confusion(dtest1, As)"
   ]
  },
  {
   "cell_type": "code",
   "execution_count": null,
   "id": "9d949a6d",
   "metadata": {},
   "outputs": [],
   "source": []
  }
 ],
 "metadata": {
  "kernelspec": {
   "display_name": "Python 3 (ipykernel)",
   "language": "python",
   "name": "python3"
  },
  "language_info": {
   "codemirror_mode": {
    "name": "ipython",
    "version": 3
   },
   "file_extension": ".py",
   "mimetype": "text/x-python",
   "name": "python",
   "nbconvert_exporter": "python",
   "pygments_lexer": "ipython3",
   "version": "3.9.7"
  }
 },
 "nbformat": 4,
 "nbformat_minor": 5
}
